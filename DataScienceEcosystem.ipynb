{
  "metadata": {
    "kernelspec": {
      "name": "python",
      "display_name": "Python (Pyodide)",
      "language": "python"
    },
    "language_info": {
      "codemirror_mode": {
        "name": "python",
        "version": 3
      },
      "file_extension": ".py",
      "mimetype": "text/x-python",
      "name": "python",
      "nbconvert_exporter": "python",
      "pygments_lexer": "ipython3",
      "version": "3.8"
    }
  },
  "nbformat_minor": 5,
  "nbformat": 4,
  "cells": [
    {
      "id": "a35eeb9f-df70-4ab1-a243-2d2025888eb0",
      "cell_type": "markdown",
      "source": "# Data Science Tools and Ecosystem",
      "metadata": {}
    },
    {
      "id": "41b764bf-1557-44ae-ab45-b5833a11e50f",
      "cell_type": "markdown",
      "source": "In this notebook, Data Science Tools and Ecosystem are summarized.",
      "metadata": {}
    },
    {
      "id": "dff0a32c-9c66-4063-9e01-be4caabe19ea",
      "cell_type": "markdown",
      "source": "***Objectives:***\n\nunordered list\n* SQL\n* JavaScript\n* Java\n* Scala",
      "metadata": {}
    },
    {
      "id": "2a9ce069-6f3b-4163-8856-c63b7e438c59",
      "cell_type": "markdown",
      "source": "Some of the popular languages that Data Scientists use are:",
      "metadata": {}
    },
    {
      "id": "5b908c2a-3cba-4108-b674-8e81e1007c59",
      "cell_type": "markdown",
      "source": "ordered list",
      "metadata": {}
    },
    {
      "id": "8e010315-b1fd-4476-a9f0-101f75039aad",
      "cell_type": "markdown",
      "source": "1. Python\n2. C/C++\n3. R",
      "metadata": {}
    },
    {
      "id": "abe2cc6f-d643-4719-8eca-217721c6bad2",
      "cell_type": "markdown",
      "source": "Some of the commonly used libraries used by Data Scientists include:",
      "metadata": {}
    },
    {
      "id": "6be4d276-fd0a-4cd7-80ed-299d94a9ccab",
      "cell_type": "markdown",
      "source": "ordered list",
      "metadata": {}
    },
    {
      "id": "d4891415-e9f0-461d-ad68-6d0fce1c5f33",
      "cell_type": "markdown",
      "source": "1. NumPy\n2. Keras\n3. Pandas",
      "metadata": {}
    },
    {
      "id": "716bfa7b-70ed-47b8-8c18-9193c952bcaa",
      "cell_type": "markdown",
      "source": "| Data Science Tools |\n| -------------------|\n| MySQL|\n| Apache AirFlow|\n| Dust|",
      "metadata": {}
    },
    {
      "id": "eb02da16-c7e3-46a5-94d6-981088f51464",
      "cell_type": "markdown",
      "source": "### Below are a few examples of evaluating arithmetic expressions in Python.",
      "metadata": {}
    },
    {
      "id": "a6e5640d-63ef-414f-b5e8-86e388441865",
      "cell_type": "code",
      "source": "#This a simple arithmetic expression to mutiply then add integers\n(3*4)+5",
      "metadata": {
        "trusted": true
      },
      "outputs": [
        {
          "execution_count": 23,
          "output_type": "execute_result",
          "data": {
            "text/plain": "17"
          },
          "metadata": {}
        }
      ],
      "execution_count": 23
    },
    {
      "id": "b12f8de1-6441-4ed3-994d-10111a2a7cef",
      "cell_type": "code",
      "source": "# This will convert 200 minutes to hours by dividing by 60\nminutes = 200\nhours = minutes / 60\nprint(round(hours, 1))",
      "metadata": {
        "trusted": true
      },
      "outputs": [
        {
          "name": "stdout",
          "text": "3.3\n",
          "output_type": "stream"
        }
      ],
      "execution_count": 24
    },
    {
      "id": "a070469c-ad9c-4d21-86a9-ee61bcfa314b",
      "cell_type": "markdown",
      "source": "## Author\n\nHa Jeong",
      "metadata": {}
    },
    {
      "id": "c89e86c7-fd59-47f2-9ab8-683e1b8390d4",
      "cell_type": "code",
      "source": "",
      "metadata": {
        "trusted": true
      },
      "outputs": [],
      "execution_count": null
    },
    {
      "id": "f3caadd9-502d-489a-9732-ce338d2ecfe4",
      "cell_type": "code",
      "source": "",
      "metadata": {
        "trusted": true
      },
      "outputs": [],
      "execution_count": null
    }
  ]
}